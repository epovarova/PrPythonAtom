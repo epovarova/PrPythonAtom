{
 "cells": [
  {
   "cell_type": "code",
   "execution_count": 108,
   "metadata": {
    "collapsed": false
   },
   "outputs": [],
   "source": [
    "from flask import Flask, request, jsonify, render_template\n",
    "from heap import MinHeap\n",
    "import copy\n",
    "\n",
    "app = Flask(__name__)\n",
    "\n",
    "class PrefixTreeNode:\n",
    "    def __init__(self,string = None, json = None, frequency = 1):\n",
    "        self.json = json\n",
    "        self.string = string\n",
    "        self.frequency = frequency\n",
    "    def __lt__(self, other):\n",
    "        if self.frequency < other.frequency:\n",
    "            return True\n",
    "        return False        \n",
    "    def __gt__(self, other):\n",
    "        if self.frequency > other.frequency:\n",
    "            return True\n",
    "        return False \n",
    "    def __le__(self, other):\n",
    "        if self.frequency <= other.frequency:\n",
    "            return True\n",
    "        return False        \n",
    "    def __ge__(self, other):\n",
    "        if self.frequency >= other.frequency:\n",
    "            return True\n",
    "        return False\n",
    "class PrefixTree:\n",
    "    #TODO реализация класса prefix tree, методы как на лекции + метод дать топ 10 продолжений. Скажем на строку кросс выдаем кроссовки, кроссовочки итп. Как хранить топ? \n",
    "    #Решать вам. Можно, конечно, обходить все ноды, но это долго. Дешевле чуток проиграть по памяти, зато отдавать быстро (скажем можно взять кучу)\n",
    "    #В терминальных (конечных) нодах может лежать json с топ актерами.\n",
    "    def __init__(self):\n",
    "        self.root = [{}]\n",
    "        \n",
    "    def add(self, string = None, json = None, frequency = 1):\n",
    "        string = string.lower()\n",
    "        if self.check(string):\n",
    "            return\n",
    "        wrk_dict = self.root        \n",
    "        for i in string:\n",
    "            if i in wrk_dict[0]:\n",
    "                wrk_dict = wrk_dict[0][i]\n",
    "            else:\n",
    "                wrk_dict[0][i] = [{}, MinHeap([])]\n",
    "                wrk_dict = wrk_dict[0][i]\n",
    "            node = PrefixTreeNode(string, json, frequency)\n",
    "            if len(wrk_dict[1].array) < 10:\n",
    "                wrk_dict[1].add(node)\n",
    "            else:\n",
    "                min_node = wrk_dict[1].extract_minimum()\n",
    "                if node >= min_node:\n",
    "                    wrk_dict[1].add(node)\n",
    "                else:\n",
    "                    wrk_dict[1].add(min_node)\n",
    "        wrk_dict.append(json)        \n",
    "        \n",
    "    def check(self, string):\n",
    "        string = string.lower()\n",
    "        wrk_dict = self.root\n",
    "        for i in string:\n",
    "            if i in wrk_dict[0]:\n",
    "                wrk_dict = wrk_dict[0][i]\n",
    "            else:\n",
    "                return False\n",
    "        if len(wrk_dict) == 3:\n",
    "            return True\n",
    "        return False\n",
    "    \n",
    "    def check_part(self, string):\n",
    "        string = string.lower()\n",
    "        wrk_dict = self.root\n",
    "        for i in string:\n",
    "            if i in wrk_dict[0]:\n",
    "                wrk_dict = wrk_dict[0][i]\n",
    "            else:\n",
    "                return False\n",
    "        return True\n",
    "    \n",
    "    def top10(self, string):\n",
    "        string = string.lower()\n",
    "        top = []\n",
    "        if self.check_part(string):\n",
    "            wrk_dict = self.root\n",
    "            for i in string:\n",
    "                wrk_dict = wrk_dict[0][i]\n",
    "            node_array = wrk_dict[1].array.copy()\n",
    "            node_array.sort(reverse = True)\n",
    "            for i in node_array:\n",
    "                suggest = {'suggest': i.string}\n",
    "                top.append(suggest)\n",
    "        return top\n",
    "        \n",
    "\n",
    "def init_prefix_tree(filename):\n",
    "    #TODO в данном методе загружаем данные из файла. Предположим вормат файла \"Строка, чтобы положить в дерево\" \\t \"json значение для ноды\" \\t частота встречаемости\n",
    "    f = open(filename, 'r')\n",
    "    for line in f:\n",
    "        data = line.split('\\t')\n",
    "        PrefixTree.add(data[0], data[1], data[2])\n",
    "    f.close()"
   ]
  },
  {
   "cell_type": "code",
   "execution_count": 83,
   "metadata": {
    "collapsed": false
   },
   "outputs": [],
   "source": [
    "import pandas as pd\n",
    "data = pd.read_pickle('parser_data.pkl')\n",
    "df_pkl = pd.DataFrame(data)\n",
    "title = []\n",
    "title = df_pkl.Title"
   ]
  },
  {
   "cell_type": "code",
   "execution_count": 109,
   "metadata": {
    "collapsed": false,
    "scrolled": true
   },
   "outputs": [
    {
     "name": "stdout",
     "output_type": "stream",
     "text": [
      "True\n",
      "[{'suggest': 'арбат'}, {'suggest': 'аральское море'}, {'suggest': 'аляска'}]\n"
     ]
    }
   ],
   "source": [
    "pTree = PrefixTree()\n",
    "for i in title:\n",
    "    pTree.add(i)\n",
    "#print (pTree.root[0])\n",
    "print (pTree.check_part('а'))\n",
    "print (pTree.top10('а'))"
   ]
  },
  {
   "cell_type": "code",
   "execution_count": 110,
   "metadata": {
    "collapsed": false
   },
   "outputs": [
    {
     "name": "stderr",
     "output_type": "stream",
     "text": [
      " * Running on http://127.0.0.1:5000/ (Press CTRL+C to quit)\n",
      "127.0.0.1 - - [13/Nov/2018 22:54:36] \"GET / HTTP/1.1\" 200 -\n",
      "127.0.0.1 - - [13/Nov/2018 22:54:36] \"GET /favicon.ico HTTP/1.1\" 404 -\n"
     ]
    }
   ],
   "source": [
    "@app.route(\"/get_sudgest/<string>\", methods=['GET', 'POST'])\n",
    "def return_sudgest(string):\n",
    "    #TODO по запросу string вернуть json, c топ-10 саджестами, и значениями из нод\n",
    "    if request.method == 'GET':\n",
    "        data = pTree.top10(string)\n",
    "        return jsonify(data)    \n",
    "\n",
    "@app.route(\"/\")\n",
    "def hello():\n",
    "    #TODO должна возвращатьс инструкция по работе с сервером\n",
    "    return render_template('hello.html')\n",
    "\n",
    "if __name__ == \"__main__\":\n",
    "    app.run()"
   ]
  }
 ],
 "metadata": {
  "anaconda-cloud": {},
  "kernelspec": {
   "display_name": "Python [conda root]",
   "language": "python",
   "name": "conda-root-py"
  },
  "language_info": {
   "codemirror_mode": {
    "name": "ipython",
    "version": 3
   },
   "file_extension": ".py",
   "mimetype": "text/x-python",
   "name": "python",
   "nbconvert_exporter": "python",
   "pygments_lexer": "ipython3",
   "version": "3.5.2"
  }
 },
 "nbformat": 4,
 "nbformat_minor": 1
}
