{
 "cells": [
  {
   "cell_type": "markdown",
   "metadata": {},
   "source": [
    "На лекции были вопросы про форматирование строк.\n",
    "тут показаны примеры форматирования строк. если хотите красиво форматировать - вам сюда:\n",
    "https://pyformat.info/"
   ]
  },
  {
   "cell_type": "markdown",
   "metadata": {},
   "source": [
    "# 1"
   ]
  },
  {
   "cell_type": "markdown",
   "metadata": {},
   "source": [
    "Разминка."
   ]
  },
  {
   "cell_type": "raw",
   "metadata": {},
   "source": [
    "Вы уже имеете представление о том что такое декоратор и даже попробовали написать свой\n",
    "\n",
    "Давайте чтобы убедиться в полезности этой вещи, возьмем не так быстро вычисляющуюся фукнцию\n",
    "например рекурсивное (понятно что это не самый эффективный вариант) вычисление n-го числа фибоначчи."
   ]
  },
  {
   "cell_type": "code",
   "execution_count": 7,
   "metadata": {
    "ExecuteTime": {
     "end_time": "2018-10-05T16:06:04.951826Z",
     "start_time": "2018-10-05T16:06:04.916437Z"
    },
    "collapsed": true
   },
   "outputs": [],
   "source": [
    "def fib(n):\n",
    "    if (n==1 or n==0):\n",
    "        return 1\n",
    "    else:\n",
    "        return fib(n-1)+fib(n-2)"
   ]
  },
  {
   "cell_type": "code",
   "execution_count": 8,
   "metadata": {
    "ExecuteTime": {
     "end_time": "2018-10-05T16:06:07.681697Z",
     "start_time": "2018-10-05T16:06:05.164927Z"
    },
    "collapsed": false
   },
   "outputs": [
    {
     "name": "stdout",
     "output_type": "stream",
     "text": [
      "CPU times: user 4.03 s, sys: 0 ns, total: 4.03 s\n",
      "Wall time: 4.03 s\n"
     ]
    },
    {
     "data": {
      "text/plain": [
       "14930352"
      ]
     },
     "execution_count": 8,
     "metadata": {},
     "output_type": "execute_result"
    }
   ],
   "source": [
    "%%time\n",
    "fib(35)"
   ]
  },
  {
   "cell_type": "markdown",
   "metadata": {
    "ExecuteTime": {
     "end_time": "2018-10-05T06:31:08.569105Z",
     "start_time": "2018-10-05T06:31:08.543005Z"
    }
   },
   "source": [
    "##### Задание \n",
    "Оберните fib в кеширующий декоратор.\n",
    "\n",
    "\n",
    "!hint для облегчения жизни - и проканает в домашке в python есть модуль functools, у него есть готовый кеширующий декоратор!)"
   ]
  },
  {
   "cell_type": "code",
   "execution_count": 1,
   "metadata": {
    "ExecuteTime": {
     "end_time": "2018-10-05T16:06:07.688402Z",
     "start_time": "2018-10-05T16:06:07.684090Z"
    },
    "collapsed": true
   },
   "outputs": [],
   "source": [
    "from functools import lru_cache\n",
    "\n",
    "@lru_cache(maxsize=None)\n",
    "def fib(n):\n",
    "    if (n==1 or n==0):\n",
    "        return 1\n",
    "    else:\n",
    "        return fib(n-1)+fib(n-2)"
   ]
  },
  {
   "cell_type": "code",
   "execution_count": 2,
   "metadata": {
    "ExecuteTime": {
     "end_time": "2018-10-05T16:07:56.392761Z",
     "start_time": "2018-10-05T16:07:56.381550Z"
    },
    "collapsed": false
   },
   "outputs": [
    {
     "name": "stdout",
     "output_type": "stream",
     "text": [
      "CPU times: user 52 µs, sys: 5 µs, total: 57 µs\n",
      "Wall time: 61.5 µs\n"
     ]
    },
    {
     "data": {
      "text/plain": [
       "14930352"
      ]
     },
     "execution_count": 2,
     "metadata": {},
     "output_type": "execute_result"
    }
   ],
   "source": [
    "%%time\n",
    "fib(35)"
   ]
  },
  {
   "cell_type": "markdown",
   "metadata": {},
   "source": [
    "Сравните время исполнения. Если оно изменилось - объясните почему? "
   ]
  },
  {
   "cell_type": "markdown",
   "metadata": {},
   "source": [
    "> Ваш ответ: Декоратор сохраняет результаты maxsize последних вызовов => меньше затраченного времени."
   ]
  },
  {
   "cell_type": "markdown",
   "metadata": {},
   "source": [
    "______"
   ]
  },
  {
   "cell_type": "markdown",
   "metadata": {},
   "source": [
    "# 2"
   ]
  },
  {
   "cell_type": "markdown",
   "metadata": {},
   "source": [
    "##### Задание. \n",
    "\n",
    "Напишите простой декоратор который проверяет, что входной аргумент больше -1, и в случае если меньше, то кидает какое нибудь исключение (Exception)"
   ]
  },
  {
   "cell_type": "code",
   "execution_count": 1,
   "metadata": {
    "ExecuteTime": {
     "end_time": "2018-10-05T16:48:32.909816Z",
     "start_time": "2018-10-05T16:48:32.880146Z"
    },
    "collapsed": true
   },
   "outputs": [],
   "source": [
    "def fib(n):\n",
    "    if (n==1 or n==0):\n",
    "        return 1\n",
    "    else:\n",
    "        return fib(n-1)+fib(n-2)\n",
    "\n",
    "# TODO внимание - не используйте  предыдущие обернутые в декоратор функции. \n",
    "# копипастните код."
   ]
  },
  {
   "cell_type": "code",
   "execution_count": 2,
   "metadata": {
    "ExecuteTime": {
     "end_time": "2018-10-05T16:48:35.827499Z",
     "start_time": "2018-10-05T16:48:33.307489Z"
    },
    "collapsed": false
   },
   "outputs": [
    {
     "name": "stdout",
     "output_type": "stream",
     "text": [
      "CPU times: user 4 s, sys: 0 ns, total: 4 s\n",
      "Wall time: 4 s\n"
     ]
    },
    {
     "data": {
      "text/plain": [
       "14930352"
      ]
     },
     "execution_count": 2,
     "metadata": {},
     "output_type": "execute_result"
    }
   ],
   "source": [
    "%%time\n",
    "fib(35)"
   ]
  },
  {
   "cell_type": "code",
   "execution_count": 5,
   "metadata": {
    "ExecuteTime": {
     "end_time": "2018-10-05T16:48:35.836582Z",
     "start_time": "2018-10-05T16:48:35.831911Z"
    },
    "collapsed": true
   },
   "outputs": [],
   "source": [
    "def decorator(function):\n",
    "    def wrapper(n):\n",
    "        if n < 0:\n",
    "            raise ValueError\n",
    "        else:\n",
    "            return function(n)\n",
    "    return wrapper"
   ]
  },
  {
   "cell_type": "code",
   "execution_count": 6,
   "metadata": {
    "collapsed": true
   },
   "outputs": [],
   "source": [
    "@decorator\n",
    "def fib(n):\n",
    "    if (n==1 or n==0):\n",
    "        return 1\n",
    "    else:\n",
    "        return fib(n-1)+fib(n-2)"
   ]
  },
  {
   "cell_type": "code",
   "execution_count": 7,
   "metadata": {
    "ExecuteTime": {
     "end_time": "2018-10-05T16:48:40.687261Z",
     "start_time": "2018-10-05T16:48:35.855650Z"
    },
    "collapsed": false
   },
   "outputs": [
    {
     "name": "stdout",
     "output_type": "stream",
     "text": [
      "CPU times: user 7 s, sys: 0 ns, total: 7 s\n",
      "Wall time: 7 s\n"
     ]
    },
    {
     "data": {
      "text/plain": [
       "14930352"
      ]
     },
     "execution_count": 7,
     "metadata": {},
     "output_type": "execute_result"
    }
   ],
   "source": [
    "%%time\n",
    "fib(35)"
   ]
  },
  {
   "cell_type": "markdown",
   "metadata": {},
   "source": [
    "Сравните время исполнения. Если оно изменилось - объясните почему? "
   ]
  },
  {
   "cell_type": "markdown",
   "metadata": {},
   "source": [
    "> Ваш ответ : Время увеличилось, так как каждый аргумент еще дополнительно проверяем на положительность."
   ]
  },
  {
   "cell_type": "markdown",
   "metadata": {},
   "source": [
    "_____"
   ]
  },
  {
   "cell_type": "markdown",
   "metadata": {},
   "source": [
    "# 3"
   ]
  },
  {
   "cell_type": "markdown",
   "metadata": {},
   "source": [
    "ОФФТОП: На лекции были вопросы про форматирование строк.\n",
    "тут показаны примеры форматирования строк. если хотите красиво форматировать - вам сюда:\n",
    "https://pyformat.info/"
   ]
  },
  {
   "cell_type": "raw",
   "metadata": {},
   "source": [
    "Модулем в Python называется любой файл с программой. Модули можно объединять в пакеты.\n",
    "Пакеты - это просто способ структурирования пространств имен модулей на основе файловой системы.\n",
    "Временами полезно держать все в порядке и декомпозировано."
   ]
  },
  {
   "cell_type": "raw",
   "metadata": {},
   "source": [
    "my_python_functions/\n",
    "│  \n",
    "├── __init__.py\n",
    "│   \n",
    "├──  math_functions/\n",
    "│      ├──     __init__.py\n",
    "│      ├──    vector_functions.py\n",
    "│      └──    matrix_functions.py\n",
    "│        \n",
    "└──  other_functions/\n",
    "      ├──    __init__.py\n",
    "      └──    string.py"
   ]
  },
  {
   "cell_type": "raw",
   "metadata": {
    "ExecuteTime": {
     "end_time": "2018-10-05T08:31:40.359626Z",
     "start_time": "2018-10-05T08:31:40.348753Z"
    }
   },
   "source": [
    "Тут пример некоторого пакета my_python_functions в котором есть мат. фукнции и другие функции.\n",
    "\n",
    "в каждой из директорий лежит (обычно пустой) файл __init__.py, \n",
    "видя __init__.py интерпретатор понимает что каталог my_python_functions содержит пакет с модулями.\n",
    "\n",
    "в такой организации проще понимать что где находится\n",
    "\n",
    "Например у нас есть модуль vector_functions.py со своим пространством имен (набор переменных, функций и тд), \n",
    "У нас на уровень выше my_python_functions (рядом с этой папкой) лежит Jupyter_notebook.ipynb файл.\n",
    "В этом случае мы в наш ноутбук можем импортировать некоторые функции из пакета my_python_functions\n",
    "следующей командой\n",
    "\n",
    "from my_python_functions.math_functions.vector_functions import dot as vector_multiplication\n",
    "\n"
   ]
  },
  {
   "cell_type": "markdown",
   "metadata": {},
   "source": [
    "_______"
   ]
  },
  {
   "cell_type": "markdown",
   "metadata": {},
   "source": [
    "##### Задание:\n"
   ]
  },
  {
   "cell_type": "raw",
   "metadata": {},
   "source": [
    "\n",
    "Создайте пакет my_python_functions и с папкой fib_functions \n",
    "Нужно положить туда модуль my_functions.py функцию из задания выше (со всеми импортами) fib c кэшом и вызовать эту функцию в ноутбуке.\n",
    "\n",
    "my_python_functions/\n",
    "│  \n",
    "├── __init__.py\n",
    "│   \n",
    "└── fib_functions/\n",
    "      ├──     __init__.py\n",
    "      └──    my_functions.py\n",
    "        "
   ]
  },
  {
   "cell_type": "code",
   "execution_count": 20,
   "metadata": {
    "ExecuteTime": {
     "end_time": "2018-10-05T16:20:53.653528Z",
     "start_time": "2018-10-05T16:20:53.645655Z"
    },
    "collapsed": false
   },
   "outputs": [],
   "source": [
    "from my_python_functions.fib_functions.my_functions import fib"
   ]
  },
  {
   "cell_type": "code",
   "execution_count": 21,
   "metadata": {
    "ExecuteTime": {
     "end_time": "2018-10-05T16:20:54.041957Z",
     "start_time": "2018-10-05T16:20:54.032618Z"
    },
    "collapsed": false
   },
   "outputs": [
    {
     "name": "stdout",
     "output_type": "stream",
     "text": [
      "CPU times: user 5 µs, sys: 0 ns, total: 5 µs\n",
      "Wall time: 9.3 µs\n"
     ]
    },
    {
     "data": {
      "text/plain": [
       "True"
      ]
     },
     "execution_count": 21,
     "metadata": {},
     "output_type": "execute_result"
    }
   ],
   "source": [
    "%%time\n",
    "fib(35)"
   ]
  },
  {
   "cell_type": "markdown",
   "metadata": {},
   "source": [
    "_________---"
   ]
  },
  {
   "cell_type": "markdown",
   "metadata": {},
   "source": [
    "# 4"
   ]
  },
  {
   "cell_type": "raw",
   "metadata": {},
   "source": [
    "Теперь попрактикуемся с классами и файлами\n",
    "\n",
    "создайте еще один каталог writer в котором будет теперь уже не пустой __init__.py\n",
    "\n",
    "\n",
    "```\n",
    "from .file_writer import FileWriter\n",
    "__all__ = [\"FileWriter\"]\n",
    "```\n",
    "\n",
    "// Обратите внимание! В отличие от ноутбука в .py файлах нужно прописывать относительные пути через .\n",
    "\n",
    "\n",
    "в __init__.py в прописали в переменной __all__  то, что должно будет вывестись в случае если из модуля импортировать все\n",
    "командой *\n",
    "\n",
    "Например:\n",
    "from my_python_functions.writer import *\n",
    "\n",
    "https://docs.python.org/3/tutorial/modules.html#importing-from-a-package"
   ]
  },
  {
   "cell_type": "raw",
   "metadata": {},
   "source": [
    "Вот так должна выглядеть теперь новая структура"
   ]
  },
  {
   "cell_type": "raw",
   "metadata": {},
   "source": [
    "my_python_functions/\n",
    "│  \n",
    "├── __init__.py\n",
    "│   \n",
    "├── fib_functions/\n",
    "│     ├──    __init__.py\n",
    "│     └──    my_functions.py\n",
    "│         \n",
    "└── writer\n",
    "      ├──    __init__.py\n",
    "      └──    file_writer.py"
   ]
  },
  {
   "cell_type": "raw",
   "metadata": {
    "ExecuteTime": {
     "end_time": "2018-10-05T08:49:51.532736Z",
     "start_time": "2018-10-05T08:49:51.495558Z"
    }
   },
   "source": [
    "в file_writer.py нужно положить класс FileWriter который:\n",
    "\n",
    "- при иницилизации должен принимать на вход строку с путем до некоторого файла.\n",
    "(файл может не сущестовать но должна быть проверка что существует директория по указанному пути)\n",
    "\n",
    "- должен иметь свойство path с getter, setter и deliter \n",
    "(сделайте такую же проверку в сеттере что в новом  path существует директория)\n",
    "\n",
    "- у класса должен быть метод - распечатай файл (print_file)\n",
    "\n",
    "- у класса должен быть метод ДОзаписать в файл строку, но только через контекстный менеджер \n",
    "(т.е. добавить в конец если файл существует, и если такого файла нет, то создать его и записать вначало)\n",
    "\n",
    "- имел бы метод сохранения созданного экземпляра класса в пикл_файл (ниже пример 2)\n",
    "- имел бы классовый метод загрузки экземпляра класса из пикл_файла (ниже пример 2)\n",
    "\n",
    "\n",
    "Примечания:\n",
    "    \n",
    "1) для работы с файловой системой вам потребуется стандартный модуль os\n",
    "( https://docs.python.org/3.5/library/os.html )\n",
    "\n",
    "2) Python позволяет сериализовать и десирализовать объекты \n",
    "(то есть просто представить объект в виде набора байтов и обратно)\n",
    "https://pythonworld.ru/moduli/modul-pickle.html\n",
    "\n",
    "Оффтоп:\n",
    "Использовать пикл может быть полезно когда у вас есть какой то созданный объект (например экземпляр класса) и \n",
    "вы хотите его сохранить, а потом спустя время загрузить и продолжить с ним работу.\n",
    "\n",
    "\n",
    "P.S. И да. прокрутите чуток вниз. там есть шаблончик класса"
   ]
  },
  {
   "cell_type": "code",
   "execution_count": null,
   "metadata": {
    "collapsed": true
   },
   "outputs": [],
   "source": []
  },
  {
   "cell_type": "code",
   "execution_count": 275,
   "metadata": {
    "ExecuteTime": {
     "end_time": "2018-10-05T08:46:30.880860Z",
     "start_time": "2018-10-05T08:46:30.869995Z"
    },
    "collapsed": false,
    "scrolled": true
   },
   "outputs": [],
   "source": [
    "from my_python_functions.writer import *\n",
    "\n",
    "# то же самое что и \n",
    "# from my_python_functions.writer.file_writer import FileWriter\n",
    "# тк в writer только один класс"
   ]
  },
  {
   "cell_type": "raw",
   "metadata": {},
   "source": [
    "Пример работы file writer"
   ]
  },
  {
   "cell_type": "code",
   "execution_count": 276,
   "metadata": {
    "ExecuteTime": {
     "end_time": "2018-10-05T08:49:01.195466Z",
     "start_time": "2018-10-05T08:49:01.190722Z"
    },
    "collapsed": false
   },
   "outputs": [
    {
     "ename": "Exception",
     "evalue": "Init error!",
     "output_type": "error",
     "traceback": [
      "\u001b[0;31m---------------------------------------------------------------------------\u001b[0m",
      "\u001b[0;31mException\u001b[0m                                 Traceback (most recent call last)",
      "\u001b[0;32m<ipython-input-276-2c7c1e536895>\u001b[0m in \u001b[0;36m<module>\u001b[0;34m()\u001b[0m\n\u001b[0;32m----> 1\u001b[0;31m \u001b[0ma\u001b[0m \u001b[0;34m=\u001b[0m \u001b[0mFileWriter\u001b[0m\u001b[0;34m(\u001b[0m\u001b[0;34m'./new_file.txt'\u001b[0m\u001b[0;34m)\u001b[0m\u001b[0;34m\u001b[0m\u001b[0m\n\u001b[0m",
      "\u001b[0;32m<ipython-input-271-1c72bcd0d369>\u001b[0m in \u001b[0;36m__init__\u001b[0;34m(self, path)\u001b[0m\n\u001b[1;32m     10\u001b[0m             \u001b[0mself\u001b[0m\u001b[0;34m.\u001b[0m\u001b[0mfile\u001b[0m \u001b[0;34m=\u001b[0m \u001b[0;32mNone\u001b[0m\u001b[0;34m\u001b[0m\u001b[0m\n\u001b[1;32m     11\u001b[0m         \u001b[0;32melse\u001b[0m\u001b[0;34m:\u001b[0m\u001b[0;34m\u001b[0m\u001b[0m\n\u001b[0;32m---> 12\u001b[0;31m             \u001b[0;32mraise\u001b[0m \u001b[0mException\u001b[0m\u001b[0;34m(\u001b[0m\u001b[0;34m\"Init error!\"\u001b[0m\u001b[0;34m)\u001b[0m\u001b[0;34m\u001b[0m\u001b[0m\n\u001b[0m\u001b[1;32m     13\u001b[0m \u001b[0;34m\u001b[0m\u001b[0m\n\u001b[1;32m     14\u001b[0m     \u001b[0;32mdef\u001b[0m \u001b[0m_check_path\u001b[0m\u001b[0;34m(\u001b[0m\u001b[0mself\u001b[0m\u001b[0;34m,\u001b[0m \u001b[0mpath\u001b[0m\u001b[0;34m)\u001b[0m\u001b[0;34m:\u001b[0m\u001b[0;34m\u001b[0m\u001b[0m\n",
      "\u001b[0;31mException\u001b[0m: Init error!"
     ]
    }
   ],
   "source": [
    "a = FileWriter('./new_file.txt')"
   ]
  },
  {
   "cell_type": "code",
   "execution_count": 277,
   "metadata": {
    "ExecuteTime": {
     "end_time": "2018-10-05T08:49:01.514132Z",
     "start_time": "2018-10-05T08:49:01.509457Z"
    },
    "collapsed": false
   },
   "outputs": [
    {
     "ename": "NameError",
     "evalue": "name 'a' is not defined",
     "output_type": "error",
     "traceback": [
      "\u001b[0;31m---------------------------------------------------------------------------\u001b[0m",
      "\u001b[0;31mNameError\u001b[0m                                 Traceback (most recent call last)",
      "\u001b[0;32m<ipython-input-277-a9d27188947d>\u001b[0m in \u001b[0;36m<module>\u001b[0;34m()\u001b[0m\n\u001b[0;32m----> 1\u001b[0;31m \u001b[0;32mwith\u001b[0m \u001b[0ma\u001b[0m \u001b[0;32mas\u001b[0m \u001b[0mfw\u001b[0m\u001b[0;34m:\u001b[0m\u001b[0;34m\u001b[0m\u001b[0m\n\u001b[0m\u001b[1;32m      2\u001b[0m     \u001b[0mfw\u001b[0m\u001b[0;34m.\u001b[0m\u001b[0mwrite\u001b[0m\u001b[0;34m(\u001b[0m\u001b[0;34m'im here!'\u001b[0m\u001b[0;34m)\u001b[0m\u001b[0;34m\u001b[0m\u001b[0m\n",
      "\u001b[0;31mNameError\u001b[0m: name 'a' is not defined"
     ]
    }
   ],
   "source": [
    "with a as fw:\n",
    "    fw.write('im here!')"
   ]
  },
  {
   "cell_type": "code",
   "execution_count": null,
   "metadata": {
    "ExecuteTime": {
     "end_time": "2018-10-05T08:49:01.903699Z",
     "start_time": "2018-10-05T08:49:01.893237Z"
    },
    "collapsed": true
   },
   "outputs": [],
   "source": [
    "s = !cat ./new_file.txt\n",
    "s = s[0]\n",
    "assert 'im here!' == s\n",
    "# те у кого винда и анаконда. скажите - эта штука работает?"
   ]
  },
  {
   "cell_type": "code",
   "execution_count": null,
   "metadata": {
    "ExecuteTime": {
     "end_time": "2018-10-05T08:49:02.385619Z",
     "start_time": "2018-10-05T08:49:02.378590Z"
    },
    "collapsed": true
   },
   "outputs": [],
   "source": [
    "a.save_yourself('./me.pkl') # сохранили экземпляр класса FileWriter"
   ]
  },
  {
   "cell_type": "code",
   "execution_count": null,
   "metadata": {
    "ExecuteTime": {
     "end_time": "2018-10-05T08:49:02.939603Z",
     "start_time": "2018-10-05T08:49:02.932518Z"
    },
    "collapsed": true
   },
   "outputs": [],
   "source": [
    "b = FileWriter.load_file_writer('./me.pkl')  # а теперь снова его загрузили"
   ]
  },
  {
   "cell_type": "code",
   "execution_count": null,
   "metadata": {
    "ExecuteTime": {
     "end_time": "2018-10-05T08:49:03.372651Z",
     "start_time": "2018-10-05T08:49:03.369712Z"
    },
    "collapsed": true
   },
   "outputs": [],
   "source": [
    "assert b.path == './new_file.txt' # видим что это и правда наш экземпляр"
   ]
  },
  {
   "cell_type": "code",
   "execution_count": null,
   "metadata": {
    "ExecuteTime": {
     "end_time": "2018-10-05T08:49:03.791643Z",
     "start_time": "2018-10-05T08:49:03.787180Z"
    },
    "collapsed": true
   },
   "outputs": [],
   "source": [
    "with b as fw:\n",
    "    fw.write('im here!')"
   ]
  },
  {
   "cell_type": "code",
   "execution_count": null,
   "metadata": {
    "ExecuteTime": {
     "end_time": "2018-10-05T08:49:04.192234Z",
     "start_time": "2018-10-05T08:49:04.173732Z"
    },
    "collapsed": true
   },
   "outputs": [],
   "source": [
    "s = !cat ./new_file.txt\n",
    "s = s[0]\n",
    "assert 'im here!im here!' == s"
   ]
  },
  {
   "cell_type": "code",
   "execution_count": null,
   "metadata": {
    "collapsed": true
   },
   "outputs": [],
   "source": []
  },
  {
   "cell_type": "raw",
   "metadata": {},
   "source": [
    "Как должен выглядеть класс FileWriter"
   ]
  },
  {
   "cell_type": "code",
   "execution_count": 271,
   "metadata": {
    "collapsed": true
   },
   "outputs": [],
   "source": [
    "import os\n",
    "import pickle as pkl\n",
    "\n",
    "class FileWriter:\n",
    "    \n",
    "    def __init__(self, path):\n",
    "        \"\"\"path - путь до файла\"\"\"\n",
    "        if self._check_path(path):\n",
    "            self.path_ = path\n",
    "            self.file = None\n",
    "        \n",
    "    def _check_path(self, path):\n",
    "        os.path.isfile(path)\n",
    "    \n",
    "    def print_file(self):\n",
    "        pass\n",
    "    \n",
    "    def write(self, some_string):\n",
    "        pass\n",
    "    \n",
    "    def save_yourself(self, file_name):\n",
    "        pass\n",
    "    \n",
    "    @classmethod\n",
    "    def load_file_writer(cls, pickle_file):\n",
    "        pass\n",
    "\n",
    "    # \n",
    "    # возможно что то еще.\n",
    "    # что намеренно упущенно. например что то для контекстного менеджера."
   ]
  },
  {
   "cell_type": "code",
   "execution_count": null,
   "metadata": {
    "collapsed": true
   },
   "outputs": [],
   "source": []
  },
  {
   "cell_type": "code",
   "execution_count": null,
   "metadata": {
    "collapsed": true
   },
   "outputs": [],
   "source": []
  },
  {
   "cell_type": "markdown",
   "metadata": {},
   "source": [
    "##### Реализовать подобие двоичной кучи ( max и min heap )\n",
    "\n",
    "Класс должен на вход принимать список чисел и иметь методы\n",
    "\n",
    "- extract_maximum / extract_minimum - извлечь максимум / минимум\n",
    "- add                               - добавить элемент"
   ]
  },
  {
   "cell_type": "code",
   "execution_count": 23,
   "metadata": {
    "ExecuteTime": {
     "end_time": "2018-10-05T16:40:30.434092Z",
     "start_time": "2018-10-05T16:40:30.426396Z"
    },
    "collapsed": true
   },
   "outputs": [],
   "source": [
    "# возможно понадобится при написании, а если нет. то знайте что есть такой модуль.\n",
    "\n",
    "import operator\n",
    "\n",
    "# встроенный модуль с набором различных операторов"
   ]
  },
  {
   "cell_type": "code",
   "execution_count": 24,
   "metadata": {
    "ExecuteTime": {
     "end_time": "2018-10-05T16:40:30.918682Z",
     "start_time": "2018-10-05T16:40:30.907769Z"
    },
    "collapsed": false
   },
   "outputs": [
    {
     "name": "stdout",
     "output_type": "stream",
     "text": [
      "1 < 3 \t True\n",
      "5 < 9 \t True\n",
      "1 < 99 \t True\n",
      "1000 < 9 is \t False\n"
     ]
    }
   ],
   "source": [
    "new_less_than_operator = operator.lt\n",
    "\n",
    "print('1 < 3 \\t', new_less_than_operator(1, 3))\n",
    "print('5 < 9 \\t', new_less_than_operator(1, 5))\n",
    "print('1 < 99 \\t', new_less_than_operator(1, 99))\n",
    "print('1000 < 9 is \\t', new_less_than_operator(1000, 9))"
   ]
  },
  {
   "cell_type": "code",
   "execution_count": 25,
   "metadata": {
    "ExecuteTime": {
     "end_time": "2018-10-05T16:40:31.793542Z",
     "start_time": "2018-10-05T16:40:31.782355Z"
    },
    "collapsed": false
   },
   "outputs": [
    {
     "name": "stdout",
     "output_type": "stream",
     "text": [
      "1 > 3 \t False\n",
      "5 > 9 \t False\n",
      "1 > 99 \t False\n",
      "1000 > 9 is \t True\n"
     ]
    }
   ],
   "source": [
    "new_greater_than_operator = operator.gt\n",
    "# Same as a>b.\n",
    "\n",
    "print('1 > 3 \\t', new_greater_than_operator(1, 3))\n",
    "print('5 > 9 \\t', new_greater_than_operator(1, 5))\n",
    "print('1 > 99 \\t', new_greater_than_operator(1, 99))\n",
    "print('1000 > 9 is \\t', new_greater_than_operator(1000, 9))"
   ]
  },
  {
   "cell_type": "markdown",
   "metadata": {},
   "source": [
    "_______"
   ]
  },
  {
   "cell_type": "code",
   "execution_count": 259,
   "metadata": {
    "collapsed": false
   },
   "outputs": [],
   "source": [
    "import operator\n",
    "from heapq import heappush as insert\n",
    "class Heap():\n",
    "    \n",
    "    def __init__(self, array, is_max_heap, comparator):\n",
    "        self.array = array[:]\n",
    "        self.is_max_heap = is_max_heap\n",
    "        self.comparator = comparator\n",
    "        self._build_heap()\n",
    "                    \n",
    "    def add(self, elem_with_priority):\n",
    "        self.array.insert(0,elem_with_priority)\n",
    "        self._shift(0)\n",
    "    \n",
    "    def _build_heap(self):\n",
    "        heap_size = len(self.array) \n",
    "        for i in range(0, heap_size//2  )[::-1]:\n",
    "            self._shift(i)\n",
    "   \n",
    "    def _shift(self, i):\n",
    "        left = 2 * i + 1\n",
    "        right = 2 * i  + 2\n",
    "        largest = i\n",
    "        heap_size = len(self.array) - 1\n",
    "        if left <= heap_size and  self.comparator(self.array[left], self.array[largest]):\n",
    "            largest = left\n",
    "        if right <= heap_size and  self.comparator(self.array[right], self.array[largest]):\n",
    "            largest = right\n",
    "        \n",
    "        if largest != i:\n",
    "            self.array[i], self.array[largest] = self.array[largest], self.array[i]\n",
    "            self._shift( largest)\n",
    "        #return self\n",
    "    \n",
    "    def show_tree(self, total_width=33, fill=' '):\n",
    "        # метод для поможет отлаживаться\n",
    "        \n",
    "        tree = self.array\n",
    "        \n",
    "        import math\n",
    "        from io import StringIO\n",
    "        output = StringIO()\n",
    "        last_row = -1\n",
    "        for i, n in enumerate(tree):\n",
    "            if i:\n",
    "                row = int(math.floor(math.log(i+1, 2)))\n",
    "            else:\n",
    "                row = 0\n",
    "            if row != last_row:\n",
    "                output.write('\\n')\n",
    "            columns = 2**row\n",
    "            col_width = int(math.floor((total_width * 1.0) / columns))\n",
    "            output.write(str(n).center(col_width, fill))\n",
    "            last_row = row\n",
    "        print (output.getvalue())\n",
    "        print ('-' * total_width)\n",
    "        print()"
   ]
  },
  {
   "cell_type": "code",
   "execution_count": 260,
   "metadata": {
    "ExecuteTime": {
     "end_time": "2018-10-05T15:19:19.314780Z",
     "start_time": "2018-10-05T15:19:19.197384Z"
    },
    "collapsed": false
   },
   "outputs": [],
   "source": [
    "class MaxHeap(Heap):\n",
    "    \n",
    "    def __init__(self, array):\n",
    "        super().__init__(array, True, operator.gt)\n",
    "        \n",
    "    def extract_maximum(self):\n",
    "        max = self.array[0]\n",
    "        if len (self.array)>1:\n",
    "            self.array[0] = self.array.pop()\n",
    "            self._shift(0)\n",
    "        else:\n",
    "            self.array.pop()\n",
    "        return max\n",
    "    \n",
    "    \n",
    "class MinHeap(Heap):\n",
    "    \n",
    "    def __init__(self, array):\n",
    "        super().__init__(array, False, operator.lt)\n",
    "        \n",
    "    def extract_minimum(self):\n",
    "        min = self.array[0]\n",
    "        if len (self.array)>1:\n",
    "            self.array[0] = self.array.pop()\n",
    "            self._shift(0)\n",
    "        else:\n",
    "            self.array.pop()\n",
    "        return min"
   ]
  },
  {
   "cell_type": "markdown",
   "metadata": {},
   "source": [
    "#### Проверь себя - тесты\n",
    "\n",
    "##### Если они не нравятся - можно написать свои."
   ]
  },
  {
   "cell_type": "code",
   "execution_count": 261,
   "metadata": {
    "ExecuteTime": {
     "end_time": "2018-10-05T14:15:38.934602Z",
     "start_time": "2018-10-05T14:15:38.928068Z"
    },
    "collapsed": true
   },
   "outputs": [],
   "source": [
    "import random\n",
    "\n",
    "# модуль который поможет нам генерировать псевдо-случайные числа\n",
    "# пример тут\n",
    "# https://docs.python.org/3/library/random.html?highlight=random#module-random"
   ]
  },
  {
   "cell_type": "markdown",
   "metadata": {},
   "source": [
    "##### Поглядим на макс кучу в бою"
   ]
  },
  {
   "cell_type": "code",
   "execution_count": 265,
   "metadata": {
    "ExecuteTime": {
     "end_time": "2018-10-05T14:15:39.231210Z",
     "start_time": "2018-10-05T14:15:39.219766Z"
    },
    "collapsed": false,
    "scrolled": false
   },
   "outputs": [
    {
     "name": "stdout",
     "output_type": "stream",
     "text": [
      "\n",
      "                20               \n",
      "       13              16       \n",
      "   12      12      9       16   \n",
      " 11  5   2   5   2   1  \n",
      "---------------------------------\n",
      "\n"
     ]
    }
   ],
   "source": [
    "some_list = [random.randint(0, 20) for i in range(13)]\n",
    "h = MaxHeap(some_list)\n",
    "h.show_tree()\n",
    "\n",
    "# Проверим что макс куча всегда правильно вытаскивает максимум.\n",
    "\n",
    "for next_max in sorted(some_list, reverse=True):\n",
    "    max_ = h.extract_maximum()\n",
    "    #h = MaxHeap(some_list)\n",
    "    assert max_ == next_max, 'oooups! heap doesnt return max - element {} {}'.format(max_, next_max)"
   ]
  },
  {
   "cell_type": "markdown",
   "metadata": {},
   "source": [
    "##### Убедимся что мин куча работает"
   ]
  },
  {
   "cell_type": "code",
   "execution_count": 263,
   "metadata": {
    "ExecuteTime": {
     "end_time": "2018-10-05T14:15:39.423901Z",
     "start_time": "2018-10-05T14:15:39.411011Z"
    },
    "collapsed": false,
    "scrolled": true
   },
   "outputs": [
    {
     "name": "stdout",
     "output_type": "stream",
     "text": [
      "\n",
      "                1                \n",
      "       2               8        \n",
      "   4       9       12      19   \n",
      " 10  18  15  14  20  17 \n",
      "---------------------------------\n",
      "\n"
     ]
    }
   ],
   "source": [
    "some_list = [random.randint(0, 20) for i in range(13)]\n",
    "\n",
    "h = MinHeap(some_list)\n",
    "h.show_tree()\n",
    "\n",
    "# Проверим что мин куча всегда правильно вытаскивает минимум.\n",
    "\n",
    "for next_max in sorted(some_list, reverse=False):\n",
    "    max_ = h.extract_minimum()\n",
    "    assert max_ == next_max, 'oooups! heap doesnt return min - element {} {}'.format(max_, next_max)"
   ]
  },
  {
   "cell_type": "markdown",
   "metadata": {},
   "source": [
    "##### Проверим что куча работает как очередь с приоритетами - будем добавлять новые элементы, но она все равно будет возвращать то что нужно"
   ]
  },
  {
   "cell_type": "code",
   "execution_count": 266,
   "metadata": {
    "ExecuteTime": {
     "end_time": "2018-10-05T14:15:56.520524Z",
     "start_time": "2018-10-05T14:15:56.490431Z"
    },
    "collapsed": false
   },
   "outputs": [
    {
     "name": "stdout",
     "output_type": "stream",
     "text": [
      "\n",
      "                19               \n",
      "       14              18       \n",
      "   10      13      13      15   \n",
      "---------------------------------\n",
      "\n",
      "\n",
      "                30               \n",
      "       19              28       \n",
      "   18      13      17      17   \n",
      " 15  12 -11  14  2   10  13  13 \n",
      "-12\n",
      "---------------------------------\n",
      "\n"
     ]
    }
   ],
   "source": [
    "# заведем макс кучу\n",
    "some_list = [random.randint(10, 20) for i in range(7)]\n",
    "h = MaxHeap(some_list)\n",
    "h.show_tree()\n",
    "\n",
    "# добавим элементов с разным приоритетом\n",
    "some_list_2 = [random.randint(-20, 40) for i in range(9)]\n",
    "[h.add(i) for i in some_list_2]\n",
    "h.show_tree()\n",
    "merged_list = some_list + some_list_2\n",
    "\n",
    "# проверим что всегда макс элемент это макс элемент\n",
    "sorted_merged_list = sorted(merged_list, reverse=True)\n",
    "for i, next_max in enumerate(sorted_merged_list):\n",
    "    max_ = h.extract_maximum()\n",
    "    assert max_ == next_max, 'oooups! heap doesnt return max - element {} {}'.format(max_, next_max)"
   ]
  },
  {
   "cell_type": "code",
   "execution_count": 264,
   "metadata": {
    "ExecuteTime": {
     "end_time": "2018-10-05T14:16:16.697986Z",
     "start_time": "2018-10-05T14:16:16.628955Z"
    },
    "collapsed": false
   },
   "outputs": [
    {
     "name": "stdout",
     "output_type": "stream",
     "text": [
      "\n",
      "                11               \n",
      "       11              11       \n",
      "   20      18      15      15   \n",
      "---------------------------------\n",
      "\n",
      "\n",
      "               -17               \n",
      "      -16              -8       \n",
      "   11      -2      15      11   \n",
      " 15  18  21  40  11  20  24  26 \n",
      "20\n",
      "---------------------------------\n",
      "\n"
     ]
    }
   ],
   "source": [
    "# заведем мин_кучу\n",
    "some_list = [random.randint(10, 20) for i in range(7)]\n",
    "h = MinHeap(some_list)\n",
    "h.show_tree()\n",
    "\n",
    "# добавим элементов с разным приоритетом\n",
    "some_list_2 = [random.randint(-20, 40) for i in range(9)]\n",
    "[h.add(i) for i in some_list_2]\n",
    "h.show_tree()\n",
    "merged_list = some_list + some_list_2\n",
    "\n",
    "# проверим что всегда минимальный элемент это минимальный элемент\n",
    "sorted_merged_list = sorted(merged_list, reverse=False)\n",
    "for i, next_max in enumerate(sorted_merged_list):\n",
    "    max_ = h.extract_minimum()\n",
    "    assert max_ == next_max, 'oooups! heap doesnt return max - element {} {}'.format(max_, next_max)"
   ]
  },
  {
   "cell_type": "markdown",
   "metadata": {},
   "source": [
    "______"
   ]
  },
  {
   "cell_type": "code",
   "execution_count": null,
   "metadata": {
    "collapsed": true
   },
   "outputs": [],
   "source": []
  }
 ],
 "metadata": {
  "anaconda-cloud": {},
  "kernelspec": {
   "display_name": "Python [default]",
   "language": "python",
   "name": "python3"
  },
  "language_info": {
   "codemirror_mode": {
    "name": "ipython",
    "version": 3
   },
   "file_extension": ".py",
   "mimetype": "text/x-python",
   "name": "python",
   "nbconvert_exporter": "python",
   "pygments_lexer": "ipython3",
   "version": "3.5.2"
  }
 },
 "nbformat": 4,
 "nbformat_minor": 2
}
