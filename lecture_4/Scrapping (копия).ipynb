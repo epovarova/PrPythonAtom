{
 "cells": [
  {
   "cell_type": "markdown",
   "metadata": {},
   "source": [
    "# Flask"
   ]
  },
  {
   "cell_type": "code",
   "execution_count": null,
   "metadata": {
    "collapsed": true
   },
   "outputs": [],
   "source": [
    "%%writefile simple_flask.py\n",
    "\n",
    "from flask import Flask\n",
    "app = Flask(__name__)\n",
    " \n",
    "@app.route(\"/\")\n",
    "def hello():\n",
    "    return \"Hello World!\"\n",
    " \n",
    "if __name__ == \"__main__\":\n",
    "    app.run()\n",
    "    \n",
    "#Теперь нужно запустить, через python simple_flask.py"
   ]
  },
  {
   "cell_type": "code",
   "execution_count": null,
   "metadata": {
    "collapsed": true
   },
   "outputs": [],
   "source": [
    "%%writefile  simple_flask.py\n",
    "\n",
    "from flask import Flask\n",
    "app = Flask(__name__)\n",
    " \n",
    "@app.route(\"/\")\n",
    "def hello():\n",
    "    return \"Hello World!\"\n",
    "\n",
    "@app.route(\"/members/<string:name>/\")\n",
    "def getMember(name):\n",
    "    return name\n",
    "\n",
    "if __name__ == \"__main__\":\n",
    "    app.run()\n",
    "#Теперь нужно запустить, через python simple_flask.py"
   ]
  },
  {
   "cell_type": "markdown",
   "metadata": {},
   "source": [
    "# Парсинг"
   ]
  },
  {
   "cell_type": "code",
   "execution_count": 1,
   "metadata": {
    "collapsed": false
   },
   "outputs": [
    {
     "name": "stdout",
     "output_type": "stream",
     "text": [
      "Requirement already satisfied (use --upgrade to upgrade): requests in /home/elizabeth/anaconda3/lib/python3.5/site-packages\n",
      "Collecting bs4\n",
      "  Downloading https://files.pythonhosted.org/packages/10/ed/7e8b97591f6f456174139ec089c769f89a94a1a4025fe967691de971f314/bs4-0.0.1.tar.gz\n",
      "Collecting user_agent\n",
      "  Downloading https://files.pythonhosted.org/packages/c3/ca/15546284f62edfec7666ecb6403a6e77f5db850def37cd36f140d99cce02/user_agent-0.1.9.tar.gz\n",
      "Collecting selenium\n",
      "  Downloading https://files.pythonhosted.org/packages/b0/c9/52390baa8d6b65c3e3b89f522c3a0fcf58f2b4faf37893ef9d97cddde699/selenium-3.14.1-py2.py3-none-any.whl (902kB)\n",
      "\u001b[K    100% |████████████████████████████████| 911kB 741kB/s \n",
      "\u001b[?25hRequirement already satisfied (use --upgrade to upgrade): beautifulsoup4 in /home/elizabeth/anaconda3/lib/python3.5/site-packages (from bs4)\n",
      "Requirement already satisfied (use --upgrade to upgrade): six in /home/elizabeth/anaconda3/lib/python3.5/site-packages (from user_agent)\n",
      "Collecting urllib3 (from selenium)\n",
      "  Downloading https://files.pythonhosted.org/packages/8c/4b/5cbc4cb46095f369117dcb751821e1bef9dd86a07c968d8757e9204c324c/urllib3-1.24-py2.py3-none-any.whl (117kB)\n",
      "\u001b[K    100% |████████████████████████████████| 122kB 788kB/s \n",
      "\u001b[?25hBuilding wheels for collected packages: bs4, user-agent\n",
      "  Running setup.py bdist_wheel for bs4 ... \u001b[?25l-\b \b\\\b \bdone\n",
      "\u001b[?25h  Stored in directory: /home/elizabeth/.cache/pip/wheels/a0/b0/b2/4f80b9456b87abedbc0bf2d52235414c3467d8889be38dd472\n",
      "  Running setup.py bdist_wheel for user-agent ... \u001b[?25l-\b \b\\\b \bdone\n",
      "\u001b[?25h  Stored in directory: /home/elizabeth/.cache/pip/wheels/92/80/3f/5d79277825042f2d4d447f594e3fc046f1e506f2b481d364b2\n",
      "Successfully built bs4 user-agent\n",
      "Installing collected packages: bs4, user-agent, urllib3, selenium\n",
      "Successfully installed bs4-0.0.1 selenium-3.14.1 urllib3-1.24 user-agent-0.1.9\n",
      "\u001b[33mYou are using pip version 8.1.2, however version 18.1 is available.\n",
      "You should consider upgrading via the 'pip install --upgrade pip' command.\u001b[0m\n"
     ]
    }
   ],
   "source": [
    "!pip install requests bs4 user_agent selenium"
   ]
  },
  {
   "cell_type": "code",
   "execution_count": 2,
   "metadata": {
    "collapsed": true
   },
   "outputs": [],
   "source": [
    "import requests\n",
    "from bs4 import BeautifulSoup\n",
    "import json\n",
    "import re"
   ]
  },
  {
   "cell_type": "code",
   "execution_count": 3,
   "metadata": {
    "collapsed": false
   },
   "outputs": [
    {
     "name": "stdout",
     "output_type": "stream",
     "text": [
      "True\n",
      "200\n",
      "<RequestsCookieJar[<Cookie lid=vAsAAJmO0FuSRkUSAV44GgB= for .lenta.ru/>, <Cookie lids=4824469223A652FE for .lenta.ru/>]>\n"
     ]
    }
   ],
   "source": [
    "#Сделаем простой запрос, получим страничку с ленты\n",
    "r = requests.get(\"https://lenta.ru/2018/06/16/\")\n",
    "print(r.ok)\n",
    "print(r.status_code)\n",
    "print(r.cookies)"
   ]
  },
  {
   "cell_type": "code",
   "execution_count": null,
   "metadata": {
    "collapsed": true
   },
   "outputs": [],
   "source": [
    "print(r.text)"
   ]
  },
  {
   "cell_type": "code",
   "execution_count": 4,
   "metadata": {
    "collapsed": false
   },
   "outputs": [
    {
     "name": "stdout",
     "output_type": "stream",
     "text": [
      "False\n",
      "404\n",
      "<RequestsCookieJar[<Cookie lid=vAsAAOqO0FvTZkwHAcbKGAB= for .lenta.ru/>]>\n"
     ]
    }
   ],
   "source": [
    "#Попробуем запросить несуществующую страницу\n",
    "r = requests.get(\"https://lenta.ru/2018/10/32/\")\n",
    "print(r.ok)\n",
    "print(r.status_code)\n",
    "print(r.cookies)"
   ]
  },
  {
   "cell_type": "code",
   "execution_count": 5,
   "metadata": {
    "collapsed": false
   },
   "outputs": [
    {
     "name": "stdout",
     "output_type": "stream",
     "text": [
      "True\n",
      "200\n",
      "<RequestsCookieJar[<Cookie csrftoken=xOdSeXsx06pLOrsxRQkcVcm3v0LTgYZs for atom.mail.ru/>]>\n"
     ]
    }
   ],
   "source": [
    "#TODO загрузите основную страницу техноатома\n",
    "r = requests.get(\"https://atom.mail.ru/feed/\")\n",
    "print(r.ok)\n",
    "print(r.status_code)\n",
    "print(r.cookies)"
   ]
  },
  {
   "cell_type": "code",
   "execution_count": 11,
   "metadata": {
    "collapsed": true
   },
   "outputs": [],
   "source": [
    "#Создаем элемент типа soup\n",
    "r = requests.get(\"https://lenta.ru/2018/06/16/\")\n",
    "soup = BeautifulSoup(r.text, \"html.parser\")"
   ]
  },
  {
   "cell_type": "code",
   "execution_count": 7,
   "metadata": {
    "collapsed": false
   },
   "outputs": [
    {
     "name": "stdout",
     "output_type": "stream",
     "text": [
      "{}\n"
     ]
    }
   ],
   "source": [
    "#Посмотрим на атрибуты\n",
    "print(soup.attrs)"
   ]
  },
  {
   "cell_type": "code",
   "execution_count": 8,
   "metadata": {
    "collapsed": false,
    "scrolled": true
   },
   "outputs": [
    {
     "name": "stdout",
     "output_type": "stream",
     "text": [
      "<div><img alt=\"\" src=\"https://mc.yandex.ru/watch/46178820\" style=\"position:absolute; left:-9999px;\"/></div>\n"
     ]
    }
   ],
   "source": [
    "#Найдем элементы в теге div. При этом будут найдены все теги, любой вложенности\n",
    "print(soup.find_all('div')[0])"
   ]
  },
  {
   "cell_type": "code",
   "execution_count": 9,
   "metadata": {
    "collapsed": false,
    "scrolled": true
   },
   "outputs": [
    {
     "name": "stdout",
     "output_type": "stream",
     "text": [
      "{}\n"
     ]
    }
   ],
   "source": [
    "print(soup.find_all('div')[0].attrs)"
   ]
  },
  {
   "cell_type": "code",
   "execution_count": 12,
   "metadata": {
    "collapsed": false
   },
   "outputs": [
    {
     "data": {
      "text/plain": [
       "[<div class=\"titles\"><h3><a href=\"/articles/2018/06/16/spain_portugal/\"><span>Чистый кайф</span></a></h3><div class=\"rightcol\">Шикарный Роналду остановил Испанию: такого футбола Россия еще не видела</div></div>,\n",
       " <div class=\"titles\"><h3><a href=\"/articles/2018/06/16/cold_war/\"><span>«Они будут в нас стрелять»</span></a></h3><div class=\"rightcol\">Почему СССР тайно дружил с Африкой и избежал войны с Китаем</div></div>,\n",
       " <div class=\"titles\"><h3><a href=\"/photo/2018/06/16/macedonia/\"><span>Славяне не нужны</span></a></h3><div class=\"rightcol\">Эту страну лишили названия. Скоро там останутся одни мусульмане</div></div>,\n",
       " <div class=\"titles\"><h3><a href=\"/articles/2018/06/16/barron/\"><span>Плодитесь и размножайтесь</span></a></h3><div class=\"rightcol\">Он 30 лет колесил по миру, соблазнял женщин и тайно породил десятки детей</div></div>,\n",
       " <div class=\"titles\"><h3><a href=\"/articles/2018/06/16/kino16062018/\"><span>Папа может</span></a></h3><div class=\"rightcol\">Кино недели: от «Суперсемейки 2» до «Дела Собчака»</div></div>,\n",
       " <div class=\"titles\"><h3><a href=\"/photo/2018/06/16/hotels/\"><span>От Геленджика до Грозного</span></a></h3><div class=\"rightcol\">Где живут иностранные футболисты во время чемпионата мира</div></div>,\n",
       " <div class=\"titles\"><h3><a href=\"/articles/2018/06/16/the_architext/\"><span>После нас</span></a></h3><div class=\"rightcol\">Он снимает мир без людей. Эти кадры заставляют вздрогнуть</div></div>,\n",
       " <div class=\"titles\"><h3><a href=\"/news/2018/06/16/ugrozi/\"><span>Судье пригрозили смертью за арест отрицателя холокоста</span></a></h3></div>,\n",
       " <div class=\"titles\"><h3><a href=\"/articles/2018/06/16/gayropa_fest/\"><span>Рижский прайд</span></a></h3><div class=\"rightcol\">В самой гомофобной стране Евросоюза прошел гигантский гей-парад. Латыши терпят</div></div>,\n",
       " <div class=\"titles\"><h3><a href=\"/news/2018/06/16/bonds/\"><span>Россия избавилась от госдолга США</span></a></h3></div>,\n",
       " <div class=\"titles\"><h3><a href=\"/news/2018/06/16/croc/\"><span>На берег реки выползли десятки крокодилов</span></a></h3></div>,\n",
       " <div class=\"titles\"><h3><a href=\"/news/2018/06/16/kiev_nafta/\"><span>Киев подал в суд на «Нафтогаз»</span></a></h3></div>,\n",
       " <div class=\"titles\"><h3><a href=\"/news/2018/06/16/hamlo/\"><span>Трамп нагрубил половине лидеров G7</span></a></h3></div>,\n",
       " <div class=\"titles\"><h3><a href=\"/news/2018/06/16/chekrym/\"><span>Госдеп США предостерег американцев от попыток забраться на Эльбрус</span></a></h3></div>,\n",
       " <div class=\"titles\"><h3><a href=\"/news/2018/06/16/ignored/\"><span>Команда Трампа саботировала его планы встретиться с Путиным</span></a></h3></div>,\n",
       " <div class=\"titles\"><h3><a href=\"/news/2018/06/16/chubbs/\"><span>В Калифорнии спасли растолстевшего втрое бездомного кота</span></a></h3></div>,\n",
       " <div class=\"titles\"><h3><a href=\"/news/2018/06/16/phototrump/\"><span>Трамп прокомментировал «плохое фото» с Меркель</span></a></h3></div>,\n",
       " <div class=\"titles\"><h3><a href=\"/news/2018/06/16/toilet/\"><span>Туалеты поднялись в воздух и улетели</span></a></h3></div>,\n",
       " <div class=\"titles\"><h3><a href=\"/news/2018/06/16/oplot/\"><span>Украинский военный прокомментировал провал «Оплотов» на танковом биатлоне НАТО</span></a></h3></div>,\n",
       " <div class=\"titles\"><h3><a href=\"/news/2018/06/16/russia_usa/\"><span>Американский баскетболист изменил мнение о России</span></a></h3></div>,\n",
       " <div class=\"titles\"><h3><a href=\"/news/2018/06/16/razmin/\"><span>Новую установку разминирования сделают для российских военных</span></a></h3></div>,\n",
       " <div class=\"titles\"><h3><a href=\"/news/2018/06/16/pitonchik/\"><span>Гигантский питон проглотил домохозяйку</span></a></h3></div>,\n",
       " <div class=\"titles\"><h3><a href=\"/news/2018/06/15/worldcup_donbass/\"><span>Украинский художник связал чемпионат мира с войной в Донбассе</span></a></h3></div>,\n",
       " <div class=\"titles\"><h3><a href=\"/news/2018/06/16/checnya/\"><span>Саудовская Аравия поддержит сельское хозяйство в Чечне</span></a></h3></div>,\n",
       " <div class=\"titles\"><h3><a href=\"/news/2018/06/16/rozhdestvensky/\"><span>Умер дирижер Геннадий Рождественский</span></a></h3></div>,\n",
       " <div class=\"titles\"><h3><a href=\"/news/2018/06/16/surprise/\"><span>Замаскировавшаяся Кристина Агилера спела в нью-йоркском метро</span></a></h3></div>,\n",
       " <div class=\"titles\"><h3><a href=\"/news/2018/06/16/golykova/\"><span>Рассчитана прибавка к пенсии после повышения пенсионного возраста</span></a></h3></div>,\n",
       " <div class=\"titles\"><h3><a href=\"/news/2018/06/16/ronaldo_rad/\"><span>Роналду похвалил себя после хет-трика в ворота сборной Испании</span></a></h3></div>,\n",
       " <div class=\"titles\"><h3><a href=\"/news/2018/06/16/superwoman/\"><span>Девушка выбралась из утонувшей машины, поймала другую и укатила</span></a></h3></div>,\n",
       " <div class=\"titles\"><h3><a href=\"/news/2018/06/16/interesting/\"><span>В Бурятии украли несколько зданий лечебницы</span></a></h3></div>,\n",
       " <div class=\"titles\"><h3><a href=\"/news/2018/06/16/gool/\"><span>На чемпионате мира назначен первый пенальти после видеоповтора</span></a></h3></div>,\n",
       " <div class=\"titles\"><h3><a href=\"/news/2018/06/16/fra_aus/\"><span>Видеоповторы помогли Франции обыграть австралийцев</span></a></h3></div>,\n",
       " <div class=\"titles\"><h3><a href=\"/news/2018/06/16/go_away/\"><span>Италия отправила восвояси суда правозащитников с беженцами</span></a></h3></div>,\n",
       " <div class=\"titles\"><h3><a href=\"/news/2018/06/16/upskirt/\"><span>Британский рыцарь заблокировал закон о наказании для вуайеристов</span></a></h3></div>,\n",
       " <div class=\"titles\"><h3><a href=\"/news/2018/06/16/kirill/\"><span>Патриарх нашел способ победить воровство в России</span></a></h3></div>,\n",
       " <div class=\"titles\"><h3><a href=\"/news/2018/06/16/brazil_football/\"><span>Комментатором ЧМ в Бразилии стал сидящий в тюрьме бывший президент</span></a></h3></div>,\n",
       " <div class=\"titles\"><h3><a href=\"/news/2018/06/16/denisova_fail/\"><span>Украинский омбудсмен в России проявила инициативу и пожалела</span></a></h3></div>,\n",
       " <div class=\"titles\"><h3><a href=\"/news/2018/06/16/not_good/\"><span>После убийства многодетной матери в Псебае полицейских уличили в халатности</span></a></h3></div>,\n",
       " <div class=\"titles\"><h3><a href=\"/news/2018/06/16/island/\"><span>Исландцы устроили шоу с кличем викингов перед матчем с Аргентиной</span></a></h3></div>,\n",
       " <div class=\"titles\"><h3><a href=\"/news/2018/06/16/elitka/\"><span>В Москве зафиксирован бум продаж элитного жилья</span></a></h3></div>,\n",
       " <div class=\"titles\"><h3><a href=\"/news/2018/06/16/india/\"><span>Индия вступит в развязанную США торговую войну</span></a></h3></div>,\n",
       " <div class=\"titles\"><h3><a href=\"/news/2018/06/16/krid/\"><span>Победительнице «Холостяка» посоветовали бороться за Бузову под видом мужчины</span></a></h3></div>,\n",
       " <div class=\"titles\"><h3><a href=\"/news/2018/06/16/argentina_iceland/\"><span>Месси не забил пенальти и оставил Аргентину без победы в первом матче на ЧМ</span></a></h3></div>,\n",
       " <div class=\"titles\"><h3><a href=\"/news/2018/06/16/fan/\"><span>Футбольному болельщику продали билет на несуществующее место</span></a></h3></div>,\n",
       " <div class=\"titles\"><h3><a href=\"/news/2018/06/16/licence/\"><span>Нашествие цыган вынудило шведский город ввести лицензию на попрошайничество</span></a></h3></div>,\n",
       " <div class=\"titles\"><h3><a href=\"/news/2018/06/16/oops/\"><span>Швейцарские болельщики заехали на линию боев в Донбассе и удивились</span></a></h3></div>,\n",
       " <div class=\"titles\"><h3><a href=\"/news/2018/06/16/taksist/\"><span>Таксист в Москве въехал в толпу людей</span></a></h3></div>,\n",
       " <div class=\"titles\"><h3><a href=\"/news/2018/06/16/yandex/\"><span>Появилось видео наезда такси на толпу людей в Москве</span></a></h3></div>,\n",
       " <div class=\"titles\"><h3><a href=\"/news/2018/06/16/peru_denmark/\"><span>Сборная Перу проиграла датчанам в Саранске</span></a></h3></div>,\n",
       " <div class=\"titles\"><h3><a href=\"/news/2018/06/16/otdohnul/\"><span>Сибиряк всю ночь выпивал в императорском дворце и ушел с добычей</span></a></h3></div>,\n",
       " <div class=\"titles\"><h3><a href=\"/news/2018/06/16/poland_delfinariy/\"><span>Футболист сборной Польши получил травму в сочинском дельфинарии</span></a></h3></div>,\n",
       " <div class=\"titles\"><h3><a href=\"/news/2018/06/16/germany/\"><span>Германию уличили в шпионаже за МАГАТЭ, ОБСЕ и правительством Австрии</span></a></h3></div>,\n",
       " <div class=\"titles\"><h3><a href=\"/news/2018/06/16/oil/\"><span>Путин и саудовский принц согласовали сделку по нефти</span></a></h3></div>,\n",
       " <div class=\"titles\"><h3><a href=\"/news/2018/06/16/cska_juve/\"><span>ЦСКА потребовал у «Ювентуса» больше денег за Головина</span></a></h3></div>,\n",
       " <div class=\"titles\"><h3><a href=\"/news/2018/06/16/cro_nig/\"><span>В матче Нигерии и Хорватии на ЧМ был назначен пятый пенальти за день</span></a></h3></div>]"
      ]
     },
     "execution_count": 12,
     "metadata": {},
     "output_type": "execute_result"
    }
   ],
   "source": [
    "#Найдем все элементы под тегом div, у которых атрибут класс:titles\n",
    "soup.findAll(\"div\", attrs={\"class\": [\"titles\"]})"
   ]
  },
  {
   "cell_type": "code",
   "execution_count": 10,
   "metadata": {
    "collapsed": false
   },
   "outputs": [
    {
     "data": {
      "text/plain": [
       "{'alt': '',\n",
       " 'src': 'https://mc.yandex.ru/watch/46178820',\n",
       " 'style': 'position:absolute; left:-9999px;'}"
      ]
     },
     "execution_count": 10,
     "metadata": {},
     "output_type": "execute_result"
    }
   ],
   "source": [
    "soup.find_all('div')[0].img.attrs"
   ]
  },
  {
   "cell_type": "code",
   "execution_count": 13,
   "metadata": {
    "collapsed": false
   },
   "outputs": [
    {
     "name": "stdout",
     "output_type": "stream",
     "text": [
      "<div class=\"titles\"><h3><a href=\"/articles/2018/06/16/spain_portugal/\"><span>Чистый кайф</span></a></h3><div class=\"rightcol\">Шикарный Роналду остановил Испанию: такого футбола Россия еще не видела</div></div>\n",
      "\n",
      "<a href=\"/articles/2018/06/16/spain_portugal/\"><span>Чистый кайф</span></a>\n",
      "\n",
      "{'href': '/articles/2018/06/16/spain_portugal/'}\n",
      "\n",
      "/articles/2018/06/16/spain_portugal/\n",
      "\n",
      "Чистый кайф\n"
     ]
    }
   ],
   "source": [
    "print(soup.findAll(\"div\", attrs={\"class\": [\"titles\"]})[0])\n",
    "print()\n",
    "print(soup.findAll(\"div\", attrs={\"class\": [\"titles\"]})[0].find('a'))\n",
    "print()\n",
    "print(soup.findAll(\"div\", attrs={\"class\": [\"titles\"]})[0].find('a').attrs)\n",
    "print()\n",
    "print(soup.findAll(\"div\", attrs={\"class\": [\"titles\"]})[0].find('a')['href'])\n",
    "print()\n",
    "print(soup.findAll(\"div\", attrs={\"class\": [\"titles\"]})[0].find('a').text)"
   ]
  },
  {
   "cell_type": "code",
   "execution_count": 20,
   "metadata": {
    "collapsed": false,
    "scrolled": true
   },
   "outputs": [
    {
     "name": "stdout",
     "output_type": "stream",
     "text": [
      "/articles/2018/06/16/spain_portugal/\n",
      "Чистый кайф\n",
      "/articles/2018/06/16/cold_war/\n",
      "«Они будут в нас стрелять»\n",
      "/photo/2018/06/16/macedonia/\n",
      "Славяне не нужны\n",
      "/articles/2018/06/16/barron/\n",
      "Плодитесь и размножайтесь\n",
      "/articles/2018/06/16/kino16062018/\n",
      "Папа может\n",
      "/photo/2018/06/16/hotels/\n",
      "От Геленджика до Грозного\n",
      "/articles/2018/06/16/the_architext/\n",
      "После нас\n",
      "/news/2018/06/16/ugrozi/\n",
      "Судье пригрозили смертью за арест отрицателя холокоста\n",
      "/articles/2018/06/16/gayropa_fest/\n",
      "Рижский прайд\n",
      "/news/2018/06/16/bonds/\n",
      "Россия избавилась от госдолга США\n",
      "/news/2018/06/16/croc/\n",
      "На берег реки выползли десятки крокодилов\n",
      "/news/2018/06/16/kiev_nafta/\n",
      "Киев подал в суд на «Нафтогаз»\n",
      "/news/2018/06/16/hamlo/\n",
      "Трамп нагрубил половине лидеров G7\n",
      "/news/2018/06/16/chekrym/\n",
      "Госдеп США предостерег американцев от попыток забраться на Эльбрус\n",
      "/news/2018/06/16/ignored/\n",
      "Команда Трампа саботировала его планы встретиться с Путиным\n",
      "/news/2018/06/16/chubbs/\n",
      "В Калифорнии спасли растолстевшего втрое бездомного кота\n",
      "/news/2018/06/16/phototrump/\n",
      "Трамп прокомментировал «плохое фото» с Меркель\n",
      "/news/2018/06/16/toilet/\n",
      "Туалеты поднялись в воздух и улетели\n",
      "/news/2018/06/16/oplot/\n",
      "Украинский военный прокомментировал провал «Оплотов» на танковом биатлоне НАТО\n",
      "/news/2018/06/16/russia_usa/\n",
      "Американский баскетболист изменил мнение о России\n",
      "/news/2018/06/16/razmin/\n",
      "Новую установку разминирования сделают для российских военных\n",
      "/news/2018/06/16/pitonchik/\n",
      "Гигантский питон проглотил домохозяйку\n",
      "/news/2018/06/15/worldcup_donbass/\n",
      "Украинский художник связал чемпионат мира с войной в Донбассе\n",
      "/news/2018/06/16/checnya/\n",
      "Саудовская Аравия поддержит сельское хозяйство в Чечне\n",
      "/news/2018/06/16/rozhdestvensky/\n",
      "Умер дирижер Геннадий Рождественский\n",
      "/news/2018/06/16/surprise/\n",
      "Замаскировавшаяся Кристина Агилера спела в нью-йоркском метро\n",
      "/news/2018/06/16/golykova/\n",
      "Рассчитана прибавка к пенсии после повышения пенсионного возраста\n",
      "/news/2018/06/16/ronaldo_rad/\n",
      "Роналду похвалил себя после хет-трика в ворота сборной Испании\n",
      "/news/2018/06/16/superwoman/\n",
      "Девушка выбралась из утонувшей машины, поймала другую и укатила\n",
      "/news/2018/06/16/interesting/\n",
      "В Бурятии украли несколько зданий лечебницы\n",
      "/news/2018/06/16/gool/\n",
      "На чемпионате мира назначен первый пенальти после видеоповтора\n",
      "/news/2018/06/16/fra_aus/\n",
      "Видеоповторы помогли Франции обыграть австралийцев\n",
      "/news/2018/06/16/go_away/\n",
      "Италия отправила восвояси суда правозащитников с беженцами\n",
      "/news/2018/06/16/upskirt/\n",
      "Британский рыцарь заблокировал закон о наказании для вуайеристов\n",
      "/news/2018/06/16/kirill/\n",
      "Патриарх нашел способ победить воровство в России\n",
      "/news/2018/06/16/brazil_football/\n",
      "Комментатором ЧМ в Бразилии стал сидящий в тюрьме бывший президент\n",
      "/news/2018/06/16/denisova_fail/\n",
      "Украинский омбудсмен в России проявила инициативу и пожалела\n",
      "/news/2018/06/16/not_good/\n",
      "После убийства многодетной матери в Псебае полицейских уличили в халатности\n",
      "/news/2018/06/16/island/\n",
      "Исландцы устроили шоу с кличем викингов перед матчем с Аргентиной\n",
      "/news/2018/06/16/elitka/\n",
      "В Москве зафиксирован бум продаж элитного жилья\n",
      "/news/2018/06/16/india/\n",
      "Индия вступит в развязанную США торговую войну\n",
      "/news/2018/06/16/krid/\n",
      "Победительнице «Холостяка» посоветовали бороться за Бузову под видом мужчины\n",
      "/news/2018/06/16/argentina_iceland/\n",
      "Месси не забил пенальти и оставил Аргентину без победы в первом матче на ЧМ\n",
      "/news/2018/06/16/fan/\n",
      "Футбольному болельщику продали билет на несуществующее место\n",
      "/news/2018/06/16/licence/\n",
      "Нашествие цыган вынудило шведский город ввести лицензию на попрошайничество\n",
      "/news/2018/06/16/oops/\n",
      "Швейцарские болельщики заехали на линию боев в Донбассе и удивились\n",
      "/news/2018/06/16/taksist/\n",
      "Таксист в Москве въехал в толпу людей\n",
      "/news/2018/06/16/yandex/\n",
      "Появилось видео наезда такси на толпу людей в Москве\n",
      "/news/2018/06/16/peru_denmark/\n",
      "Сборная Перу проиграла датчанам в Саранске\n",
      "/news/2018/06/16/otdohnul/\n",
      "Сибиряк всю ночь выпивал в императорском дворце и ушел с добычей\n",
      "/news/2018/06/16/poland_delfinariy/\n",
      "Футболист сборной Польши получил травму в сочинском дельфинарии\n",
      "/news/2018/06/16/germany/\n",
      "Германию уличили в шпионаже за МАГАТЭ, ОБСЕ и правительством Австрии\n",
      "/news/2018/06/16/oil/\n",
      "Путин и саудовский принц согласовали сделку по нефти\n",
      "/news/2018/06/16/cska_juve/\n",
      "ЦСКА потребовал у «Ювентуса» больше денег за Головина\n",
      "/news/2018/06/16/cro_nig/\n",
      "В матче Нигерии и Хорватии на ЧМ был назначен пятый пенальти за день\n"
     ]
    }
   ],
   "source": [
    "#TODO сохранить все ссылки в словарь вида: {href: title}\n",
    "for i in soup.findAll(\"div\", attrs={\"class\": [\"titles\"]}):\n",
    "    print(i.find('a')['href'])\n",
    "    print(i.find('a').text)\n",
    "    "
   ]
  },
  {
   "cell_type": "code",
   "execution_count": 23,
   "metadata": {
    "collapsed": true
   },
   "outputs": [],
   "source": [
    "def get_product_info_avito(url):\n",
    "    product_page = requests.get(url)\n",
    "    soup = BeautifulSoup(product_page.text, \"html.parser\")\n",
    "    title = re.findall(r\"(?=content=\\\"([^\\\"]*)\\\")\",\n",
    "                       str(soup.find(\"meta\", attrs={\"name\":\"mrc__share_title\"})), re.UNICODE)[0]\n",
    "    if title.startswith(u\"Объявление на Avito -\"):\n",
    "        title = title[21:]\n",
    "    descr = re.findall(r\"(?=content=\\\"([^\\\"]*)\\\")\",\n",
    "                       str(soup.find(\"meta\", attrs={\"name\":\"mrc__share_description\"})), re.UNICODE)[0]\n",
    "    return url, title, descr\n",
    "\n",
    "def get_smilar_avito(url):\n",
    "    headers = {u\"accept\": u\"*/*\", u\"accept-encoding\": u\"gzip, deflate, br\",\n",
    "           u\"accept-language\": u\"ru-RU,ru;q=0.9,en-US;q=0.8,en;q=0.7\",\n",
    "           u\"cookie\": u\"u=26m3i302.1fc6nq6.flumvzf17n; buyer_location_id=637640; abp=1; _ga=GA1.2.1386374517.1519811174; _vwo_uuid_v2=D5AF40B1213C5F49AEE8A45D8584418ED|06e85eceee6cdc4810096a7268f54acb; cto_lwid=85c9fbb1-8918-4cc4-a91d-2a757134e844; _vis_opt_s=1%7C; _vis_opt_test_cookie=1; _ym_uid=1519811174428571120; _vwo_uuid=D5AF40B1213C5F49AEE8A45D8584418ED; __gads=ID=c16722fa56933ba1:T=1519811174:S=ALNI_MYLAba7KfXbX-Amt7ypPSVfyyTdzA; _vis_opt_exp_46_exclude=1; __utma=99926606.1386374517.1519811174.1521126280.1521126280.1; __utmc=99926606; __utmz=99926606.1521126280.1.1.utmcsr=(direct)|utmccn=(direct)|utmcmd=(none); dfp_group=52; _vwo_ds=3%3Aa_0%2Ct_0%3A0%241526386623%3A47.11855471%3A%3A%3A18_0%2C12_0; sessid=bbc4979ea3347bd02e9b3ed7349589c7.1527492578; _gid=GA1.2.91958680.1527492579; _ym_isad=1; f=5.673c10cb09ba31f34b5abdd419952845a68643d4d8df96e9a68643d4d8df96e9a68643d4d8df96e9ba029cd346349f36c1e8912fd5a48d02c1e8912fd5a48d02c1e8912fd5a48d02c1e8912fd5a48d02c1e8912fd5a48d02c1e8912fd5a48d0246b8ae4e81acb9fa143114829cf33ca746b8ae4e81acb9fa46b8ae4e81acb9fae992ad2cc54b8aa82351fe598a5894ec615ab5228c34303140e3fb81381f3591fed88e598638463b2da10fb74cac1eab2da10fb74cac1eab2da10fb74cac1eab2da10fb74cac1eab2da10fb74cac1eab2da10fb74cac1eab2da10fb74cac1eab2da10fb74cac1eab2da10fb74cac1eab2da10fb74cac1eab2da10fb74cac1eab2da10fb74cac1eabc6c679871524fbf7ddc1bb7967f85dcbbd0ca7a45a8813cec5b922a937441bee49f5ff0743e01b943fdc85926d4eb0def5a18441d6f5f811652c8d9bab9891ff60768b50dd5e12c36a95541ff881623729cd2db18e763082465d5650ed2fd5c1685428d00dc691fa9e82118971f2ed6494d66450ac1e729244734ef48a8669163de19da9ed218fe23de19da9ed218fe2da5ad592e16af4d7e45e6a89df371af55cc35db011f710a1998c47e34a42c61a; _vis_opt_exp_74_exclude=1; _vis_opt_exp_71_exclude=1; _vis_opt_exp_69_exclude=1; v=1527504434; nps_sleep=1; sx=H4sIAAAAAAACA53PUW7CMAyA4bv4mQcndcHtbTYnBMkBb%2FXaVKDenTJp0p65wPfrf8BAOFzmPNVZBBs5o6ApFYPxAQuM0E3f%2BJPz2iVUNhZWdSVmc1FuBQ6QYQx9PPUc%2Bxi2A8T1g76W83W9XZ0EtTibtqL6HkkvcpbAHd5iUkLWgu5SmjX%2FI2v4rCWJ1DvRPqFY0Hy39jY2b%2F%2FIAbn7JZeUZUp1rkcjdTHCpk5vkTEMtG1PS1Phf00BAAA%3D; isHeartsEnabled=0; _nfh=3cef57cbf431e38a89658bc44a326af9; _gat_UA-2546784-1=1\",\n",
    "           u\"referer\": url,\n",
    "           u\"user-agent\": \"Mozilla/5.0 (X11; Linux x86_64) AppleWebKit/537.36 (KHTML, like Gecko) Chrome/66.0.3359.181 Safari/537.36\",\n",
    "           u\"x-requested-with\": \"XMLHttpRequest\"}\n",
    "    pr_id = url.split(\"_\")[-1]\n",
    "    similars = requests.get(\"https://www.avito.ru/js/similar/\" + pr_id + \"?offset=0\", headers=headers)\n",
    "    sim_urls = []\n",
    "    for i, json_part in enumerate(similars.json()['similarsJson']):\n",
    "        sim_urls.append([url, i, \"https://www.avito.ru\" + json_part['url']])\n",
    "    return sim_urls"
   ]
  },
  {
   "cell_type": "code",
   "execution_count": 24,
   "metadata": {
    "collapsed": false
   },
   "outputs": [
    {
     "data": {
      "text/plain": [
       "('https://www.avito.ru/moskva/akvarium/faraon_dlya_akvariuma_869897086',\n",
       " 'Объявление на Авито - Фараон для аквариума',\n",
       " 'Статуя фараона для аквариума. Высота 22 см.')"
      ]
     },
     "execution_count": 24,
     "metadata": {},
     "output_type": "execute_result"
    }
   ],
   "source": [
    "#TODO Попробовать загрузить похожие и информацию об 1 продукте с авито\n",
    "get_product_info_avito(\"https://www.avito.ru/moskva/akvarium/faraon_dlya_akvariuma_869897086\")"
   ]
  },
  {
   "cell_type": "code",
   "execution_count": null,
   "metadata": {
    "collapsed": true
   },
   "outputs": [],
   "source": [
    "#Создадим список проксей и проверим их доступность\n",
    "\n",
    "from user_agent import generate_user_agent\n",
    "from time import sleep\n",
    "import numpy as np\n",
    "import requests\n",
    "\n",
    "proxies_list = [{'http':'http://'+i} for i in ['67.149.217.254:10200',\n",
    "                '64.20.74.24:45554','62.37.237.101:8080',\n",
    "                '180.234.206.77:8080',\n",
    "                '78.11.85.13:8080','109.188.81.101:8080',\n",
    "                '139.59.17.113:8080','191.179.147.46:11421',\n",
    "                '111.68.99.42:8080','80.241.219.66:3128',\n",
    "                '201.20.94.106:8080','216.229.120.173:45554',\n",
    "                '116.58.247.31:3128','103.9.115.142:3128',\n",
    "                '82.164.99.193:10200','80.188.79.138:8080',\n",
    "                '36.75.113.224:8080',\n",
    "                '1.20.204.163:8080','97.77.49.151:45554',\n",
    "                '178.54.44.24:8080',\n",
    "                '65.182.136.153:45554', '111.76.129.223:808',\n",
    "                 '203.142.81.205'+':'+'8080', \n",
    "                '42.202.35.185'+':'+'8118', '189.16.249.114'+':'+'8080',\n",
    "                '66.162.122.24'+':'+'8080']]\n",
    "\n",
    "for i in range(len(proxies_list)):\n",
    "    sleep(np.random.random())\n",
    "    assert 200 == requests.get('https://yandex.ru', \n",
    "                               headers={'User-Agent': generate_user_agent()},\n",
    "                               proxies=proxies_list[i]).status_code\n",
    "print ('all_proxies_are_worked!\\n\\n')"
   ]
  },
  {
   "cell_type": "code",
   "execution_count": null,
   "metadata": {
    "collapsed": true
   },
   "outputs": [],
   "source": [
    "def get_proxy():\n",
    "    return proxies_list[np.random.randint(0, len(proxies_list))]\n",
    "\n",
    "#TODO сделаем декоратор, который будет генерировать случайную задержку на исполнение функции\n",
    "def delay_decorator(func):\n",
    "    def func_delay(*args, **kwargs):\n",
    "        sleep(np.random.random())\n",
    "        return func(*args, **kwargs)\n",
    "    return func_delay\n",
    "\n",
    "#TODO Модернизируем функцию, которая парсит похожие. Будем генерировать user-agent, не будем передавать cookies\n",
    "#используем случайный прокси сервер. Обернем в декоратор задержки\n",
    "def get_smilar_avito(url):\n",
    "    headers = {u\"accept\": u\"*/*\", u\"accept-encoding\": u\"gzip, deflate, br\",\n",
    "           u\"accept-language\": u\"ru-RU,ru;q=0.9,en-US;q=0.8,en;q=0.7\",\n",
    "           u\"cookie\": u\"u=26m3i302.1fc6nq6.flumvzf17n; buyer_location_id=637640; abp=1; _ga=GA1.2.1386374517.1519811174; _vwo_uuid_v2=D5AF40B1213C5F49AEE8A45D8584418ED|06e85eceee6cdc4810096a7268f54acb; cto_lwid=85c9fbb1-8918-4cc4-a91d-2a757134e844; _vis_opt_s=1%7C; _vis_opt_test_cookie=1; _ym_uid=1519811174428571120; _vwo_uuid=D5AF40B1213C5F49AEE8A45D8584418ED; __gads=ID=c16722fa56933ba1:T=1519811174:S=ALNI_MYLAba7KfXbX-Amt7ypPSVfyyTdzA; _vis_opt_exp_46_exclude=1; __utma=99926606.1386374517.1519811174.1521126280.1521126280.1; __utmc=99926606; __utmz=99926606.1521126280.1.1.utmcsr=(direct)|utmccn=(direct)|utmcmd=(none); dfp_group=52; _vwo_ds=3%3Aa_0%2Ct_0%3A0%241526386623%3A47.11855471%3A%3A%3A18_0%2C12_0; sessid=bbc4979ea3347bd02e9b3ed7349589c7.1527492578; _gid=GA1.2.91958680.1527492579; _ym_isad=1; f=5.673c10cb09ba31f34b5abdd419952845a68643d4d8df96e9a68643d4d8df96e9a68643d4d8df96e9ba029cd346349f36c1e8912fd5a48d02c1e8912fd5a48d02c1e8912fd5a48d02c1e8912fd5a48d02c1e8912fd5a48d02c1e8912fd5a48d0246b8ae4e81acb9fa143114829cf33ca746b8ae4e81acb9fa46b8ae4e81acb9fae992ad2cc54b8aa82351fe598a5894ec615ab5228c34303140e3fb81381f3591fed88e598638463b2da10fb74cac1eab2da10fb74cac1eab2da10fb74cac1eab2da10fb74cac1eab2da10fb74cac1eab2da10fb74cac1eab2da10fb74cac1eab2da10fb74cac1eab2da10fb74cac1eab2da10fb74cac1eab2da10fb74cac1eab2da10fb74cac1eabc6c679871524fbf7ddc1bb7967f85dcbbd0ca7a45a8813cec5b922a937441bee49f5ff0743e01b943fdc85926d4eb0def5a18441d6f5f811652c8d9bab9891ff60768b50dd5e12c36a95541ff881623729cd2db18e763082465d5650ed2fd5c1685428d00dc691fa9e82118971f2ed6494d66450ac1e729244734ef48a8669163de19da9ed218fe23de19da9ed218fe2da5ad592e16af4d7e45e6a89df371af55cc35db011f710a1998c47e34a42c61a; _vis_opt_exp_74_exclude=1; _vis_opt_exp_71_exclude=1; _vis_opt_exp_69_exclude=1; v=1527504434; nps_sleep=1; sx=H4sIAAAAAAACA53PUW7CMAyA4bv4mQcndcHtbTYnBMkBb%2FXaVKDenTJp0p65wPfrf8BAOFzmPNVZBBs5o6ApFYPxAQuM0E3f%2BJPz2iVUNhZWdSVmc1FuBQ6QYQx9PPUc%2Bxi2A8T1g76W83W9XZ0EtTibtqL6HkkvcpbAHd5iUkLWgu5SmjX%2FI2v4rCWJ1DvRPqFY0Hy39jY2b%2F%2FIAbn7JZeUZUp1rkcjdTHCpk5vkTEMtG1PS1Phf00BAAA%3D; isHeartsEnabled=0; _nfh=3cef57cbf431e38a89658bc44a326af9; _gat_UA-2546784-1=1\",\n",
    "           u\"referer\": url,\n",
    "           u\"user-agent\": generate_user_agent(),\n",
    "           u\"x-requested-with\": \"XMLHttpRequest\"}\n",
    "    pr_id = url.split(\"_\")[-1]\n",
    "    similars = requests.get(\"https://www.avito.ru/js/similar/\" + pr_id + \"?offset=0\", headers=headers, proxies_list = get_proxy())\n",
    "    sim_urls = []\n",
    "    for i, json_part in enumerate(similars.json()['similarsJson']):\n",
    "        sim_urls.append([url, i, \"https://www.avito.ru\" + json_part['url']])\n",
    "    return sim_urls"
   ]
  },
  {
   "cell_type": "code",
   "execution_count": 25,
   "metadata": {
    "collapsed": false
   },
   "outputs": [],
   "source": [
    "#Скачаем и разархивируем драйвер для гугл хрома https://chromedriver.storage.googleapis.com/index.html?path=2.43/\n",
    "#Или firefox https://github.com/mozilla/geckodriver/releases\n",
    "\n",
    "import pandas as pd\n",
    "import selenium\n",
    "\n",
    "from selenium.webdriver import Firefox\n",
    "from selenium.webdriver.common.keys import Keys\n",
    "from selenium.common.exceptions import NoSuchElementException, WebDriverException\n",
    "\n",
    "from time import sleep"
   ]
  },
  {
   "cell_type": "code",
   "execution_count": 27,
   "metadata": {
    "collapsed": false
   },
   "outputs": [
    {
     "name": "stdout",
     "output_type": "stream",
     "text": [
      "chromedriver  geckodriver.log  Scrapping.ipynb\r\n",
      "geckodriver   regression       YH.xlsx\r\n"
     ]
    }
   ],
   "source": [
    "!ls"
   ]
  },
  {
   "cell_type": "code",
   "execution_count": 28,
   "metadata": {
    "collapsed": false
   },
   "outputs": [],
   "source": [
    "browser = Firefox(executable_path=\"../lecture_4/geckodriver\")\n",
    "browser.get('https://www.google.com/')\n",
    "\n",
    "search_form = browser.find_element_by_name('q')\n",
    "search_form.send_keys(\"в контакте\")\n",
    "search_form.send_keys(Keys.ENTER)"
   ]
  },
  {
   "cell_type": "code",
   "execution_count": null,
   "metadata": {
    "collapsed": false
   },
   "outputs": [],
   "source": [
    "#TODO Загрузить эксельку в pd.DataFrame\n",
    "data = \n",
    "href = {}\n",
    "data.head()"
   ]
  },
  {
   "cell_type": "code",
   "execution_count": null,
   "metadata": {
    "collapsed": false
   },
   "outputs": [],
   "source": [
    "name = data.loc[0, 'Short Name']\n",
    "\n",
    "browser = Chrome(executable_path=\"chromedriver\")\n",
    "\n",
    "browser.get('https://finance.yahoo.com/quote/BAB?p=BAB&.tsrc=fin-srch-v1')\n",
    "search_form = browser.find_element_by_xpath('''//*[@id=\"fin-srch-assist\"]/input''')\n",
    "search_form.send_keys(name)\n",
    "search_form.send_keys(Keys.ENTER)\n",
    "time.sleep(2)\n",
    "\n",
    "\n",
    "sleep(2)\n",
    "target_place = browser.find_element_by_xpath('''//*[@id=\"lookup-page\"]/section/div/div/div/div/table/tbody/tr[1]/td[1]/a''')\n",
    "target_place.click()\n",
    "\n",
    "sleep(2)\n",
    "history_place = browser.find_element_by_xpath('''//*[@id=\"quote-nav\"]/ul/li[9]/a/span''')\n",
    "history_place.click()\n",
    "        \n",
    "sleep(2)\n",
    "dates = browser.find_element_by_xpath('''//*[@id=\"Col1-1-HistoricalDataTable-Proxy\"]/section/div[1]/div[1]/div[1]/span[2]/span/input''')\n",
    "dates.click()\n",
    "\n",
    "sleep(1)\n",
    "max_ts = browser.find_element_by_xpath('''//*[@id=\"Col1-1-HistoricalDataTable-Proxy\"]/section/div[1]/div[1]/div[1]/span[2]/div/div[1]/span[8]/span''')\n",
    "max_ts.click()\n",
    "\n",
    "sleep(1)\n",
    "done = browser.find_element_by_xpath('''//*[@id=\"Col1-1-HistoricalDataTable-Proxy\"]/section/div[1]/div[1]/div[1]/span[2]/div/div[3]/button[1]/span''')\n",
    "done.click()\n",
    "\n",
    "sleep(1)\n",
    "apply = browser.find_element_by_xpath('''//*[@id=\"Col1-1-HistoricalDataTable-Proxy\"]/section/div[1]/div[1]/button/span''')\n",
    "apply.click()\n",
    "result = browser.find_element_by_xpath('''//*[@id=\"Col1-1-HistoricalDataTable-Proxy\"]/section/div[1]/div[2]/span[2]/a''')\n",
    "href[name] = result.get_attribute(\"href\")"
   ]
  },
  {
   "cell_type": "code",
   "execution_count": null,
   "metadata": {
    "collapsed": true
   },
   "outputs": [],
   "source": [
    "#TODO Завернуть в функцию, которая парсит ShortName из data. Формируем dict href"
   ]
  },
  {
   "cell_type": "code",
   "execution_count": 30,
   "metadata": {
    "collapsed": false
   },
   "outputs": [],
   "source": [
    "#TODO Давайте спарсим выдачу Яндекса (1 страницу) на запрос по вашему Имени Фамилии\n",
    "browser = Firefox(executable_path=\"../lecture_4/geckodriver\")\n",
    "browser.get('https://www.yandex.ru/')\n",
    "\n",
    "search_form = browser.find_element_by_xpath('''//*[@id=\"text\"]''')\n",
    "search_form.send_keys(\"бебебе\")\n",
    "search_form.send_keys(Keys.ENTER)"
   ]
  }
 ],
 "metadata": {
  "anaconda-cloud": {},
  "kernelspec": {
   "display_name": "Python [default]",
   "language": "python",
   "name": "python3"
  },
  "language_info": {
   "codemirror_mode": {
    "name": "ipython",
    "version": 3
   },
   "file_extension": ".py",
   "mimetype": "text/x-python",
   "name": "python",
   "nbconvert_exporter": "python",
   "pygments_lexer": "ipython3",
   "version": "3.5.2"
  }
 },
 "nbformat": 4,
 "nbformat_minor": 2
}
